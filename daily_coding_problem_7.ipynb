{
 "cells": [
  {
   "cell_type": "code",
   "execution_count": null,
   "metadata": {},
   "outputs": [],
   "source": [
    "# main function \n",
    "\n",
    "def func_list_partition(lst,x):\n",
    "    \n",
    "    if x not in lst:\n",
    "        return \"no such pivot found in the list\"\n",
    "    \n",
    "    else:\n",
    "        lst_pivot_indices = [t for t in range(len(lst)) if lst[t] == x]      # this list is sorted in ascending order need not sort it again\n",
    "        print('lst_pivot_indices: ', lst_pivot_indices)\n",
    "        print('\\n\\n')\n",
    "        flag = 0\n",
    "        temp = lst_pivot_indices[0]\n",
    "        \n",
    "        for i in range(len(lst)):\n",
    "            if lst[i] < x and i < temp:  \n",
    "                print('in 1')                                                             # for the element in lst to be on left of pivot it must be less than or equal to pivot and its index must be less than or equal to min of lst_pivot_indices list\n",
    "                print('lst from 1: ', lst)\n",
    "                print('lst_pivot_indices from 1: ', lst_pivot_indices)\n",
    "                print('\\n')\n",
    "                continue                                                     # do nothing, just continue to the next element in the list\n",
    "            \n",
    "            elif lst[i] < x and i > temp:                    # try writing while loop here where it takes next element of lst_pivot_indices till the time the condition i <= lst_pivot_indices[k] is met where k in range(0.len(lst_pivot_indices))\n",
    "                swap(temp, i ,lst)                           # send only indices to swap function and the function will return a swapped list that overrides the list originally passed \n",
    "                lst_pivot_indices[0] = i                                     # now update the index of pivot in lst_pivot_indices\n",
    "                print('in 2')\n",
    "                print('lst from 2: ', lst)\n",
    "                print('lst_pivot_indices from 2: ', lst_pivot_indices)\n",
    "                print('\\n')\n",
    "                continue\n",
    "                \n",
    "            elif lst[i] > x and i < temp:\n",
    "                swap(i,temp,lst)                           # send only indices to swap function and the function will return a swapped list that overrides the list originally passed \n",
    "                lst_pivot_indices[0] = i  \n",
    "                temp = lst_pivot_indices[0]                            # now update the index of pivot in lst_pivot_indices\n",
    "                print('in 3')\n",
    "                print('lst from 3: ', lst)\n",
    "                print('lst_pivot_indices from 3: ', lst_pivot_indices)\n",
    "                print('\\n')\n",
    "                continue\n",
    "                \n",
    "            elif lst[i] > x and i > temp: \n",
    "                for c in range(1, len(lst_pivot_indices)):\n",
    "                    if i < lst_pivot_indices[c]:\n",
    "                        flag = 1\n",
    "                        temp = lst_pivot_indices[c]\n",
    "                        break\n",
    "                \n",
    "#                 if flag == 0:                                         # There was no other pivot \n",
    "                if flag == 1:                                                    \n",
    "                    print('next index in lst that has pivot: ', lst_pivot_indices[c])\n",
    "                    swap(i, temp, lst)\n",
    "                    lst_pivot_indices[c] = i \n",
    "                    temp = lst_pivot_indices\n",
    "                    print('in 4')\n",
    "                    print('lst from 4: ', lst)\n",
    "                    print('lst_pivot_indices from 4: ', lst_pivot_indices)\n",
    "                    print('\\n')\n",
    "\n",
    "                    if c == len(lst_pivot_indices)-1:\n",
    "                        return lst\n",
    "                    continue\n",
    "                \n",
    "        return lst    \n",
    "    \n",
    "# helper function\n",
    "\n",
    "def swap(a,b,lst):\n",
    "    lst[a],lst[b] = lst[b], lst[a]\n",
    "    return lst"
   ]
  },
  {
   "cell_type": "code",
   "execution_count": null,
   "metadata": {},
   "outputs": [],
   "source": [
    "import random\n",
    "lstt = [random.randrange(0,20) for _ in range(15)]\n",
    "print(\"original lst: \", lstt)\n",
    "print(func_list_partition(lstt, 10))"
   ]
  },
  {
   "cell_type": "code",
   "execution_count": null,
   "metadata": {},
   "outputs": [],
   "source": [
    "for i in range(10):\n",
    "    \n",
    "    if i == 3:\n",
    "        i = i+1\n",
    "        print('i: ', i)\n",
    "        continue\n",
    "    else:\n",
    "        print(i)"
   ]
  },
  {
   "cell_type": "code",
   "execution_count": 17,
   "metadata": {},
   "outputs": [],
   "source": [
    "# solution by easier approach\n",
    "\n",
    "def func_easier(lst,x):\n",
    "    lst_small = [c for c in lst if c < x]\n",
    "    print('lst_small: ', lst_small)\n",
    "    lst_large = [c for c in lst if c > x]\n",
    "    print('lst_large: ', lst_large)\n",
    "    lst_pivot = [c for c in lst if c == x]\n",
    "    print('lst_pivot: ', lst_pivot)\n",
    "    lst_small.extend(lst_pivot)\n",
    "    print('new extended lst_small: ', lst_small)\n",
    "    lst_small.extend(lst_large)\n",
    "    return lst_small"
   ]
  },
  {
   "cell_type": "code",
   "execution_count": 23,
   "metadata": {},
   "outputs": [
    {
     "name": "stdout",
     "output_type": "stream",
     "text": [
      "lstt original:  [7, 14, 9, 19, 10, 7, 0, 5, 0, 9, 14, 8, 2, 17, 10]\n",
      "lst_small:  [7, 9, 7, 0, 5, 0, 9, 8, 2]\n",
      "lst_large:  [14, 19, 14, 17]\n",
      "lst_pivot:  [10, 10]\n",
      "new extended lst_small:  [7, 9, 7, 0, 5, 0, 9, 8, 2, 10, 10]\n",
      "[7, 9, 7, 0, 5, 0, 9, 8, 2, 10, 10, 14, 19, 14, 17]\n"
     ]
    }
   ],
   "source": [
    "import random\n",
    "lstt = [random.randrange(0,20) for _ in range(15)]\n",
    "print('lstt original: ', lstt)\n",
    "print(func_easier(lstt, 10))"
   ]
  },
  {
   "cell_type": "code",
   "execution_count": null,
   "metadata": {},
   "outputs": [],
   "source": []
  },
  {
   "cell_type": "code",
   "execution_count": null,
   "metadata": {},
   "outputs": [],
   "source": []
  }
 ],
 "metadata": {
  "kernelspec": {
   "display_name": "Python 3",
   "language": "python",
   "name": "python3"
  },
  "language_info": {
   "codemirror_mode": {
    "name": "ipython",
    "version": 3
   },
   "file_extension": ".py",
   "mimetype": "text/x-python",
   "name": "python",
   "nbconvert_exporter": "python",
   "pygments_lexer": "ipython3",
   "version": "3.7.3"
  }
 },
 "nbformat": 4,
 "nbformat_minor": 2
}
