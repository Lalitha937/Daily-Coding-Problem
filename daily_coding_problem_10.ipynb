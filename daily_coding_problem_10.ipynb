{
 "cells": [
  {
   "cell_type": "code",
   "execution_count": 73,
   "metadata": {},
   "outputs": [],
   "source": [
    "def func_nearest(lst, idx):\n",
    "    \n",
    "    a = b = 0  \n",
    "                                            \n",
    "    if idx > 0 and idx < len(lst)-1:    \n",
    " \n",
    "        for i in range(1, len(lst)-idx):\n",
    "\n",
    "            if lst[idx] < lst[idx+i]:\n",
    "                b = lst[idx+i]         \n",
    "            \n",
    "            if idx-i >= 0:\n",
    "                if lst[idx-i] > lst[idx]:\n",
    "                    a = lst[idx-i]\n",
    "                \n",
    "            if a != 0 and b!= 0:\n",
    "                if a > b:\n",
    "                    return idx-i\n",
    "                else:\n",
    "                    return idx+i\n",
    "                \n",
    "            if a == 0 and b!=0:\n",
    "                return idx+i\n",
    "            \n",
    "            if b == 0 and a!=0:\n",
    "                return idx-i\n",
    "            \n",
    "            if a == 0 and b == 0:\n",
    "                continue\n",
    "            \n",
    "    elif idx == 0:\n",
    "        for i in range(1, len(lst)):\n",
    "            if lst[idx] < lst[i]:\n",
    "                return i\n",
    "            \n",
    "    elif idx == len(lst)-1:\n",
    "        for i in range(len(lst)-2,-1,-1):\n",
    "            if lst[i] > lst[idx]:\n",
    "                return i\n",
    "    else:\n",
    "        return None"
   ]
  },
  {
   "cell_type": "code",
   "execution_count": 74,
   "metadata": {},
   "outputs": [
    {
     "name": "stdout",
     "output_type": "stream",
     "text": [
      "4\n"
     ]
    }
   ],
   "source": [
    "lst=[9,0,-2,5,10,5,4,7]\n",
    "print(func_nearest(lst, 0))"
   ]
  },
  {
   "cell_type": "code",
   "execution_count": null,
   "metadata": {},
   "outputs": [],
   "source": []
  }
 ],
 "metadata": {
  "kernelspec": {
   "display_name": "Python 3",
   "language": "python",
   "name": "python3"
  },
  "language_info": {
   "codemirror_mode": {
    "name": "ipython",
    "version": 3
   },
   "file_extension": ".py",
   "mimetype": "text/x-python",
   "name": "python",
   "nbconvert_exporter": "python",
   "pygments_lexer": "ipython3",
   "version": "3.7.3"
  }
 },
 "nbformat": 4,
 "nbformat_minor": 2
}
